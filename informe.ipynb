{
 "cells": [
  {
   "attachments": {},
   "cell_type": "markdown",
   "metadata": {},
   "source": [
    "# Foro con Django y Tailwind CSS\n",
    "## Webs de interes\n",
    "* [Pypi](https://pypi.org/) - Gestor de paquetes de Python\n",
    "* [NPM](https://www.npmjs.com/) - Gestor de paquetes de Node.js\n",
    "\n",
    "## Webs de referencia\n",
    "* [Django](https://www.djangoproject.com/)\n",
    "* [Tailwind CSS](https://tailwindcss.com/)\n",
    "* [Django Tailwind](https://django-tailwind.readthedocs.io/en/latest/installation.html)"
   ]
  },
  {
   "attachments": {},
   "cell_type": "markdown",
   "metadata": {},
   "source": [
    "# Comprobando el backend de Users con Postman\n",
    "* [Postman](https://www.postman.com/)\n",
    "\n",
    "## Comprobamos el registro de usuarios\n",
    "![](img/Register%20User.png)\n",
    "\n",
    "## Comprobamos el login de usuarios\n",
    "![](img/Login.png)\n",
    "\n",
    "## Comprobamos el actualizado de datos\n",
    "1. Copiamos el access token que nos devuelve el login y lo pegamos en el campo de autorización de Postman\n",
    "![](img/Token%20User.png)\n",
    "![](img/Put%20Desde%20Postman.png)\n",
    "\n",
    "## Comprobamos el perfil de usuario\n",
    "![](img/User%20Profile%20Postman.png)\n",
    "\n",
    "## Comprobamos el obtener solo un usuario\n",
    "![](img/Solo%20Un%20Usuario%20Postman.png)\n",
    "\n",
    "## Comprobamos el obtener todos los usuarios\n",
    "![](img/Obtener%20Todos%20Los%20Usuarios%20Postman.png)"
   ]
  },
  {
   "attachments": {},
   "cell_type": "markdown",
   "metadata": {},
   "source": [
    "# Comprobamos el backend de Blogs con Postman\n",
    "## Comprobamos el crear un Blog Post\n",
    "![](img/Create%20Post.png)\n",
    "\n",
    "## Comprobamos el obtener todos los Blog Post\n",
    "![](img/Get%20All%20Posts.png)\n",
    "\n",
    "## Comprobamos el obtener un Blog Post\n",
    "![](img/Get%20Alone%20Post.png)\n",
    "\n",
    "## Comprobamos el actualizar un Blog Post\n",
    "![](img/Update%20Post.png)\n",
    "\n",
    "## Comprobamos el borrar un Blog Post\n",
    "![](img/Delete%20Post.png)\n",
    "\n",
    "# Comprobamos el backend de Comentarios con Postman\n",
    "![](img/Comment%20Postman.png)"
   ]
  }
 ],
 "metadata": {
  "language_info": {
   "name": "python"
  },
  "orig_nbformat": 4
 },
 "nbformat": 4,
 "nbformat_minor": 2
}
