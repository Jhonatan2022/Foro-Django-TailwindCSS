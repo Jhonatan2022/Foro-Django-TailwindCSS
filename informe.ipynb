{
 "cells": [
  {
   "attachments": {},
   "cell_type": "markdown",
   "metadata": {},
   "source": [
    "# Foro con Django y Tailwind CSS\n",
    "\n",
    "## Requisitos\n",
    "\n",
    "* Python Instalado: [Python](https://www.python.org/downloads/)\n",
    "* Django Instalado: [Django](https://www.djangoproject.com/download/)\n",
    "* NodeJS Instalado: [NodeJS](https://nodejs.org/es/download/)\n",
    "\n",
    "\n",
    "## Webs de referencia\n",
    "\n",
    "* [Django](https://www.djangoproject.com/)\n",
    "* [Tailwind CSS](https://tailwindcss.com/)\n",
    "* [Django Tailwind](https://djangotailwind.com/)"
   ]
  }
 ],
 "metadata": {
  "language_info": {
   "name": "python"
  },
  "orig_nbformat": 4
 },
 "nbformat": 4,
 "nbformat_minor": 2
}
