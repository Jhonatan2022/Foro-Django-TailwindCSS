{
 "cells": [
  {
   "attachments": {},
   "cell_type": "markdown",
   "metadata": {},
   "source": [
    "# Foro con Django y Tailwind CSS\n",
    "\n",
    "## Requisitos\n",
    "\n",
    "* Python Instalado: [Python](https://www.python.org/downloads/)\n",
    "* Django Instalado: [Django](https://www.djangoproject.com/download/)\n",
    "* NodeJS Instalado: [NodeJS](https://nodejs.org/es/download/)\n",
    "* DB Browser for SQLite Instalado: [DB Browser for SQLite](https://sqlitebrowser.org/dl/)\n",
    "\n",
    "## Webs de interes\n",
    "\n",
    "* [Pypi](https://pypi.org/)\n",
    "* [NPM](https://www.npmjs.com/)\n",
    "\n",
    "\n",
    "## Webs de referencia\n",
    "\n",
    "* [Django](https://www.djangoproject.com/)\n",
    "* [Tailwind CSS](https://tailwindcss.com/)\n",
    "* [Django Tailwind](https://django-tailwind.readthedocs.io/en/latest/installation.html)"
   ]
  },
  {
   "attachments": {},
   "cell_type": "markdown",
   "metadata": {},
   "source": [
    "## Comprobando el backend con Postman\n",
    "\n",
    "* [Postman](https://www.postman.com/)\n",
    "\n",
    "## Comprobamos el registro de usuarios\n",
    "\n",
    "![](img/Register%20User.png)\n",
    "\n",
    "## Comprobamos el login de usuarios\n",
    "\n",
    "![](img/Login.png)\n"
   ]
  }
 ],
 "metadata": {
  "language_info": {
   "name": "python"
  },
  "orig_nbformat": 4
 },
 "nbformat": 4,
 "nbformat_minor": 2
}
